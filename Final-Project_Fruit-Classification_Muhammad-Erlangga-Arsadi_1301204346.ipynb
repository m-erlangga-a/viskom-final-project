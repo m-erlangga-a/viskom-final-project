{
  "cells": [
    {
      "cell_type": "markdown",
      "source": [
        "**Nama: Muhammad Erlangga Arsadi**\n",
        "\n",
        "**NIM: 1301204346**"
      ],
      "metadata": {
        "id": "j_KDP6-HGUxp"
      }
    },
    {
      "cell_type": "markdown",
      "source": [
        "# **1. Import Library yang dibutuhkan**"
      ],
      "metadata": {
        "id": "sBuvlzqsGLN5"
      }
    },
    {
      "cell_type": "code",
      "execution_count": 2,
      "metadata": {
        "id": "9sSsiHEtD-1e"
      },
      "outputs": [],
      "source": [
        "import numpy as np\n",
        "import pandas as pd\n",
        "import matplotlib.pyplot as plt\n",
        "from tensorflow.keras.layers import Conv2D,Dense,Dropout,Flatten,MaxPool2D,BatchNormalization\n",
        "from tensorflow.keras.models import Sequential\n",
        "from sklearn.model_selection import train_test_split\n",
        "import tensorflow as tf\n",
        "import os\n",
        "import cv2\n",
        "import time\n",
        "\n",
        "np.random.seed(1)"
      ]
    },
    {
      "cell_type": "markdown",
      "source": [
        "# **2. Pengumpulan dan Preproses Data**"
      ],
      "metadata": {
        "id": "BVjvtQ6MWsCF"
      }
    },
    {
      "cell_type": "code",
      "execution_count": 5,
      "metadata": {
        "id": "BZRpzzCmD-1h"
      },
      "outputs": [],
      "source": [
        "%matplotlib inline\n",
        "import matplotlib.pyplot as plt\n",
        "import numpy as np\n",
        "import pandas as pd\n",
        "import warnings\n",
        "\n",
        "if not tf.test.gpu_device_name():\n",
        "    warnings.warn('No GPU found. Please ensure you have installed TensorFlow correctly')\n",
        "else:\n",
        "    print('Default GPU Device: {}'.format(tf.test.gpu_device_name()))"
      ]
    },
    {
      "cell_type": "code",
      "execution_count": 8,
      "metadata": {
        "id": "zLg5qaVqD-1h"
      },
      "outputs": [],
      "source": [
        "import zipfile\n",
        "zip_file_path = '/content/archive.zip'\n",
        "extracted_dir = '/content'\n",
        "with zipfile.ZipFile(zip_file_path, 'r') as zip_ref:\n",
        "    zip_ref.extractall(extracted_dir)\n",
        "\n",
        "target_shape = (200,200)\n",
        "train_imgs = []\n",
        "train_labels = []\n",
        "train_file = './train_zip/train'\n",
        "\n",
        "for file in os.listdir(train_file):\n",
        "    # jika file berupa jpg berarti adalah file gambar\n",
        "    if file.split('.')[1] == 'jpg':\n",
        "        img = cv2.imread(os.path.join(train_file,file))\n",
        "        # konversi gambar menjadi rgb\n",
        "        img = cv2.cvtColor(img,cv2.COLOR_BGR2RGB)\n",
        "        # menambahkan label\n",
        "        train_labels.append(file.split('_')[0])\n",
        "        # resize gambar\n",
        "        img = cv2.resize(img,target_shape)\n",
        "        train_imgs.append(img)\n",
        "\n",
        "train_labels = pd.get_dummies(train_labels).values\n",
        "train_imgs = np.array(train_imgs)\n",
        "\n",
        "# data splitting menjadi data train dan data valid\n",
        "x_train,x_valid,y_train,y_valid = train_test_split(train_imgs,train_labels,random_state=1,test_size=0.2)"
      ]
    },
    {
      "cell_type": "code",
      "execution_count": 9,
      "metadata": {
        "id": "_z_2hW_jD-1i"
      },
      "outputs": [],
      "source": [
        "test_imgs = []\n",
        "test_labels = []\n",
        "test_file = \"./test_zip/test\"\n",
        "\n",
        "for file in os.listdir(test_file):\n",
        "    if file.split(\".\")[1] == \"jpg\":\n",
        "        # jika file berupa jpg berarti adalah file gambar\n",
        "        img = cv2.imread(os.path.join(test_file,file))\n",
        "        # konversi gambar menjadi rgb\n",
        "        img = cv2.cvtColor(img,cv2.COLOR_BGR2RGB)\n",
        "        # menambahkan label\n",
        "        test_labels.append(file.split(\"_\")[0])\n",
        "        img = cv2.resize(img,target_shape)\n",
        "        test_imgs.append(img)\n",
        "\n",
        "test_labels = pd.get_dummies(test_labels).values\n",
        "test_imgs = np.array(test_imgs)"
      ]
    },
    {
      "cell_type": "markdown",
      "source": [
        "# **3. Pembuatan Model**"
      ],
      "metadata": {
        "id": "ih4rETi1W6H0"
      }
    },
    {
      "cell_type": "code",
      "execution_count": 10,
      "metadata": {
        "colab": {
          "base_uri": "https://localhost:8080/"
        },
        "id": "B6sSU8M4D-1i",
        "outputId": "1264a78a-24f7-4e21-e4bb-df3612f1eb08"
      },
      "outputs": [
        {
          "output_type": "stream",
          "name": "stdout",
          "text": [
            "Model: \"sequential\"\n",
            "_________________________________________________________________\n",
            " Layer (type)                Output Shape              Param #   \n",
            "=================================================================\n",
            " conv2d (Conv2D)             (None, 198, 198, 16)      448       \n",
            "                                                                 \n",
            " batch_normalization (Batch  (None, 198, 198, 16)      64        \n",
            " Normalization)                                                  \n",
            "                                                                 \n",
            " max_pooling2d (MaxPooling2  (None, 99, 99, 16)        0         \n",
            " D)                                                              \n",
            "                                                                 \n",
            " conv2d_1 (Conv2D)           (None, 97, 97, 16)        2320      \n",
            "                                                                 \n",
            " batch_normalization_1 (Bat  (None, 97, 97, 16)        64        \n",
            " chNormalization)                                                \n",
            "                                                                 \n",
            " max_pooling2d_1 (MaxPoolin  (None, 48, 48, 16)        0         \n",
            " g2D)                                                            \n",
            "                                                                 \n",
            " conv2d_2 (Conv2D)           (None, 46, 46, 16)        2320      \n",
            "                                                                 \n",
            " batch_normalization_2 (Bat  (None, 46, 46, 16)        64        \n",
            " chNormalization)                                                \n",
            "                                                                 \n",
            " max_pooling2d_2 (MaxPoolin  (None, 23, 23, 16)        0         \n",
            " g2D)                                                            \n",
            "                                                                 \n",
            " flatten (Flatten)           (None, 8464)              0         \n",
            "                                                                 \n",
            " dropout (Dropout)           (None, 8464)              0         \n",
            "                                                                 \n",
            " dense (Dense)               (None, 128)               1083520   \n",
            "                                                                 \n",
            " dropout_1 (Dropout)         (None, 128)               0         \n",
            "                                                                 \n",
            " dense_1 (Dense)             (None, 32)                4128      \n",
            "                                                                 \n",
            " dense_2 (Dense)             (None, 4)                 132       \n",
            "                                                                 \n",
            "=================================================================\n",
            "Total params: 1093060 (4.17 MB)\n",
            "Trainable params: 1092964 (4.17 MB)\n",
            "Non-trainable params: 96 (384.00 Byte)\n",
            "_________________________________________________________________\n"
          ]
        }
      ],
      "source": [
        "# membuat arsitektur model\n",
        "model = Sequential()\n",
        "\n",
        "model.add(Conv2D(kernel_size=(3,3),filters=16,activation='relu',input_shape=(200,200,3,)))\n",
        "model.add(BatchNormalization())\n",
        "model.add(MaxPool2D(2,2))\n",
        "model.add(Conv2D(kernel_size=(3,3),filters=16,activation='relu'))\n",
        "model.add(BatchNormalization())\n",
        "model.add(MaxPool2D(2,2))\n",
        "model.add(Conv2D(kernel_size=(3,3),filters=16,activation='relu'))\n",
        "model.add(BatchNormalization())\n",
        "model.add(MaxPool2D(2,2))\n",
        "model.add(Flatten())\n",
        "model.add(Dropout(0.4))\n",
        "model.add(Dense(128,activation='relu'))\n",
        "model.add(Dropout(0.2))\n",
        "model.add(Dense(32,activation='relu'))\n",
        "model.add(Dense(4,activation='softmax'))\n",
        "\n",
        "model.summary()"
      ]
    },
    {
      "cell_type": "code",
      "execution_count": 11,
      "metadata": {
        "id": "Jfp7csT9D-1j"
      },
      "outputs": [],
      "source": [
        "# compile model menggunakan optimizer ADAM dan loss crossentropy\n",
        "model.compile(optimizer='adam',loss='categorical_crossentropy',metrics=['accuracy'])"
      ]
    },
    {
      "cell_type": "markdown",
      "source": [
        "# **4. Pelatihan Model**"
      ],
      "metadata": {
        "id": "M5zNeLVsXEk7"
      }
    },
    {
      "cell_type": "code",
      "execution_count": 12,
      "metadata": {
        "colab": {
          "base_uri": "https://localhost:8080/"
        },
        "id": "Bsy5X0fBD-1j",
        "outputId": "596ff151-5c31-4cc7-dc8c-47b7cda7abbc"
      },
      "outputs": [
        {
          "output_type": "stream",
          "name": "stdout",
          "text": [
            "Epoch 1/50\n",
            "4/4 [==============================] - 11s 2s/step - loss: 1.5398 - accuracy: 0.4635 - val_loss: 2.5307 - val_accuracy: 0.3125\n",
            "Epoch 2/50\n",
            "4/4 [==============================] - 7s 2s/step - loss: 0.5080 - accuracy: 0.7969 - val_loss: 4.1302 - val_accuracy: 0.3125\n",
            "Epoch 3/50\n",
            "4/4 [==============================] - 8s 2s/step - loss: 0.4172 - accuracy: 0.8229 - val_loss: 3.3613 - val_accuracy: 0.3333\n",
            "Epoch 4/50\n",
            "4/4 [==============================] - 7s 2s/step - loss: 0.1555 - accuracy: 0.9375 - val_loss: 2.8522 - val_accuracy: 0.4167\n",
            "Epoch 5/50\n",
            "4/4 [==============================] - 8s 2s/step - loss: 0.0827 - accuracy: 0.9792 - val_loss: 2.7958 - val_accuracy: 0.3958\n",
            "Epoch 6/50\n",
            "4/4 [==============================] - 7s 2s/step - loss: 0.0485 - accuracy: 0.9948 - val_loss: 2.8140 - val_accuracy: 0.3750\n",
            "Epoch 7/50\n",
            "4/4 [==============================] - 11s 3s/step - loss: 0.0719 - accuracy: 0.9948 - val_loss: 3.6164 - val_accuracy: 0.3958\n",
            "Epoch 8/50\n",
            "4/4 [==============================] - 14s 3s/step - loss: 0.0160 - accuracy: 1.0000 - val_loss: 4.3442 - val_accuracy: 0.3750\n",
            "Epoch 9/50\n",
            "4/4 [==============================] - 7s 2s/step - loss: 0.0394 - accuracy: 0.9792 - val_loss: 4.4556 - val_accuracy: 0.3333\n",
            "Epoch 10/50\n",
            "4/4 [==============================] - 8s 2s/step - loss: 0.0179 - accuracy: 0.9948 - val_loss: 4.2597 - val_accuracy: 0.3333\n",
            "Epoch 11/50\n",
            "4/4 [==============================] - 8s 2s/step - loss: 0.0087 - accuracy: 1.0000 - val_loss: 4.0846 - val_accuracy: 0.3125\n",
            "Epoch 12/50\n",
            "4/4 [==============================] - 7s 2s/step - loss: 0.0256 - accuracy: 0.9844 - val_loss: 3.8796 - val_accuracy: 0.3333\n",
            "Epoch 13/50\n",
            "4/4 [==============================] - 8s 2s/step - loss: 0.0092 - accuracy: 1.0000 - val_loss: 3.4902 - val_accuracy: 0.4167\n",
            "Epoch 14/50\n",
            "4/4 [==============================] - 7s 2s/step - loss: 0.0198 - accuracy: 0.9948 - val_loss: 2.5837 - val_accuracy: 0.4583\n",
            "Epoch 15/50\n",
            "4/4 [==============================] - 8s 2s/step - loss: 0.0043 - accuracy: 1.0000 - val_loss: 2.1266 - val_accuracy: 0.5208\n",
            "Epoch 16/50\n",
            "4/4 [==============================] - 7s 2s/step - loss: 0.0034 - accuracy: 1.0000 - val_loss: 1.9000 - val_accuracy: 0.5625\n",
            "Epoch 17/50\n",
            "4/4 [==============================] - 8s 2s/step - loss: 0.0013 - accuracy: 1.0000 - val_loss: 1.7902 - val_accuracy: 0.6250\n",
            "Epoch 18/50\n",
            "4/4 [==============================] - 8s 2s/step - loss: 0.0027 - accuracy: 1.0000 - val_loss: 1.7139 - val_accuracy: 0.6458\n",
            "Epoch 19/50\n",
            "4/4 [==============================] - 6s 2s/step - loss: 0.0202 - accuracy: 0.9948 - val_loss: 1.6160 - val_accuracy: 0.6667\n",
            "Epoch 20/50\n",
            "4/4 [==============================] - 8s 2s/step - loss: 0.0034 - accuracy: 1.0000 - val_loss: 1.5778 - val_accuracy: 0.7083\n",
            "Epoch 21/50\n",
            "4/4 [==============================] - 7s 2s/step - loss: 8.4017e-04 - accuracy: 1.0000 - val_loss: 1.5863 - val_accuracy: 0.7083\n",
            "Epoch 22/50\n",
            "4/4 [==============================] - 8s 2s/step - loss: 0.0013 - accuracy: 1.0000 - val_loss: 1.5920 - val_accuracy: 0.7083\n",
            "Epoch 23/50\n",
            "4/4 [==============================] - 7s 2s/step - loss: 0.0092 - accuracy: 0.9948 - val_loss: 1.7628 - val_accuracy: 0.7500\n",
            "Epoch 24/50\n",
            "4/4 [==============================] - 8s 2s/step - loss: 0.0120 - accuracy: 0.9948 - val_loss: 1.8372 - val_accuracy: 0.6875\n",
            "Epoch 25/50\n",
            "4/4 [==============================] - 8s 2s/step - loss: 0.0022 - accuracy: 1.0000 - val_loss: 1.8083 - val_accuracy: 0.7292\n",
            "Epoch 26/50\n",
            "4/4 [==============================] - 7s 2s/step - loss: 0.0014 - accuracy: 1.0000 - val_loss: 1.7616 - val_accuracy: 0.7292\n",
            "Epoch 27/50\n",
            "4/4 [==============================] - 8s 2s/step - loss: 0.0018 - accuracy: 1.0000 - val_loss: 1.7429 - val_accuracy: 0.7083\n",
            "Epoch 28/50\n",
            "4/4 [==============================] - 7s 2s/step - loss: 9.0474e-04 - accuracy: 1.0000 - val_loss: 1.7322 - val_accuracy: 0.7083\n",
            "Epoch 29/50\n",
            "4/4 [==============================] - 8s 2s/step - loss: 0.0019 - accuracy: 1.0000 - val_loss: 1.7102 - val_accuracy: 0.7083\n",
            "Epoch 30/50\n",
            "4/4 [==============================] - 8s 2s/step - loss: 0.0045 - accuracy: 0.9948 - val_loss: 1.6438 - val_accuracy: 0.7083\n",
            "Epoch 31/50\n",
            "4/4 [==============================] - 7s 2s/step - loss: 5.0442e-04 - accuracy: 1.0000 - val_loss: 1.5684 - val_accuracy: 0.7292\n",
            "Epoch 32/50\n",
            "4/4 [==============================] - 8s 2s/step - loss: 5.3542e-04 - accuracy: 1.0000 - val_loss: 1.5365 - val_accuracy: 0.7500\n",
            "Epoch 33/50\n",
            "4/4 [==============================] - 7s 2s/step - loss: 5.1597e-04 - accuracy: 1.0000 - val_loss: 1.5495 - val_accuracy: 0.7500\n",
            "Epoch 34/50\n",
            "4/4 [==============================] - 8s 2s/step - loss: 8.2890e-04 - accuracy: 1.0000 - val_loss: 1.5734 - val_accuracy: 0.7500\n",
            "Epoch 35/50\n",
            "4/4 [==============================] - 7s 2s/step - loss: 0.0022 - accuracy: 1.0000 - val_loss: 1.5931 - val_accuracy: 0.7500\n",
            "Epoch 36/50\n",
            "4/4 [==============================] - 7s 2s/step - loss: 0.0054 - accuracy: 1.0000 - val_loss: 1.6122 - val_accuracy: 0.7500\n",
            "Epoch 37/50\n",
            "4/4 [==============================] - 8s 2s/step - loss: 0.0048 - accuracy: 0.9948 - val_loss: 1.9437 - val_accuracy: 0.7083\n",
            "Epoch 38/50\n",
            "4/4 [==============================] - 7s 2s/step - loss: 0.0013 - accuracy: 1.0000 - val_loss: 2.2608 - val_accuracy: 0.7083\n",
            "Epoch 39/50\n",
            "4/4 [==============================] - 8s 2s/step - loss: 0.0067 - accuracy: 1.0000 - val_loss: 2.1957 - val_accuracy: 0.6875\n",
            "Epoch 40/50\n",
            "4/4 [==============================] - 7s 2s/step - loss: 0.0042 - accuracy: 1.0000 - val_loss: 1.8667 - val_accuracy: 0.6875\n",
            "Epoch 41/50\n",
            "4/4 [==============================] - 8s 2s/step - loss: 0.0135 - accuracy: 0.9948 - val_loss: 1.6451 - val_accuracy: 0.7292\n",
            "Epoch 42/50\n",
            "4/4 [==============================] - 8s 2s/step - loss: 0.0054 - accuracy: 0.9948 - val_loss: 1.4758 - val_accuracy: 0.7083\n",
            "Epoch 43/50\n",
            "4/4 [==============================] - 7s 2s/step - loss: 0.0101 - accuracy: 0.9948 - val_loss: 1.3162 - val_accuracy: 0.7917\n",
            "Epoch 44/50\n",
            "4/4 [==============================] - 8s 2s/step - loss: 0.0027 - accuracy: 1.0000 - val_loss: 1.2925 - val_accuracy: 0.7917\n",
            "Epoch 45/50\n",
            "4/4 [==============================] - 7s 2s/step - loss: 0.0014 - accuracy: 1.0000 - val_loss: 1.3401 - val_accuracy: 0.7917\n",
            "Epoch 46/50\n",
            "4/4 [==============================] - 8s 2s/step - loss: 0.0383 - accuracy: 0.9844 - val_loss: 1.4108 - val_accuracy: 0.7708\n",
            "Epoch 47/50\n",
            "4/4 [==============================] - 8s 2s/step - loss: 0.0036 - accuracy: 1.0000 - val_loss: 1.5574 - val_accuracy: 0.7708\n",
            "Epoch 48/50\n",
            "4/4 [==============================] - 7s 2s/step - loss: 0.0034 - accuracy: 1.0000 - val_loss: 1.6709 - val_accuracy: 0.7292\n",
            "Epoch 49/50\n",
            "4/4 [==============================] - 8s 2s/step - loss: 0.0034 - accuracy: 1.0000 - val_loss: 1.7694 - val_accuracy: 0.7083\n",
            "Epoch 50/50\n",
            "4/4 [==============================] - 7s 2s/step - loss: 0.0094 - accuracy: 0.9948 - val_loss: 1.7455 - val_accuracy: 0.7083\n",
            "Model trained in 383.8751 sec\n"
          ]
        }
      ],
      "source": [
        "# melakukan model training\n",
        "epochs = 50\n",
        "batch_size = 50\n",
        "\n",
        "start = time.time()\n",
        "\n",
        "trained_model = model.fit(x_train,y_train,epochs=epochs,batch_size=batch_size,validation_data=(x_valid,y_valid))\n",
        "\n",
        "total_time = time.time() - start\n",
        "\n",
        "print(\"Model trained in {:.4f} sec\".format(total_time))"
      ]
    },
    {
      "cell_type": "markdown",
      "source": [
        "# **5. Evaluasi Model**"
      ],
      "metadata": {
        "id": "G7cBSYHpXbWU"
      }
    },
    {
      "cell_type": "code",
      "execution_count": 13,
      "metadata": {
        "colab": {
          "base_uri": "https://localhost:8080/",
          "height": 699
        },
        "id": "_7ABweVaD-1j",
        "outputId": "cba2d69c-7a11-419d-9459-933310258f8d"
      },
      "outputs": [
        {
          "output_type": "display_data",
          "data": {
            "text/plain": [
              "<Figure size 1500x800 with 2 Axes>"
            ],
            "image/png": "[encoded data removed]"
          },
          "metadata": {}
        }
      ],
      "source": [
        "# plotting kerugian/loss beserta akurasi untuk tiap fase\n",
        "train_loss = trained_model.history['loss']\n",
        "val_loss = trained_model.history['val_loss']\n",
        "train_acc = trained_model.history['accuracy']\n",
        "val_acc = trained_model.history['val_accuracy']\n",
        "\n",
        "epochs_range = range(epochs)\n",
        "\n",
        "plt.figure(figsize=(15,8))\n",
        "\n",
        "plt.subplot(1,2,1)\n",
        "plt.plot(epochs_range,train_loss,label=\"train_loss\")\n",
        "plt.plot(epochs_range,val_loss,label=\"val_loss\")\n",
        "plt.legend(loc=0)\n",
        "plt.title(\"Loss\")\n",
        "\n",
        "plt.subplot(1,2,2)\n",
        "plt.plot(epochs_range,train_acc,label=\"train_acc\")\n",
        "plt.plot(epochs_range,val_acc,label=\"val_acc\")\n",
        "plt.legend(loc=0)\n",
        "plt.title(\"Accuracy\")\n",
        "\n",
        "plt.show()"
      ]
    },
    {
      "cell_type": "code",
      "execution_count": 14,
      "metadata": {
        "colab": {
          "base_uri": "https://localhost:8080/"
        },
        "id": "GyD0naEKD-1k",
        "outputId": "7795cdc4-f32b-4efa-899a-fa6989f4a141"
      },
      "outputs": [
        {
          "output_type": "stream",
          "name": "stdout",
          "text": [
            "2/2 [==============================] - 1s 273ms/step - loss: 1.4885 - accuracy: 0.6833\n"
          ]
        },
        {
          "output_type": "execute_result",
          "data": {
            "text/plain": [
              "[1.488518238067627, 0.6833333373069763]"
            ]
          },
          "metadata": {},
          "execution_count": 14
        }
      ],
      "source": [
        "# melakukan model testing pada data test\n",
        "model.evaluate(test_imgs,test_labels)"
      ]
    }
  ],
  "metadata": {
    "kernelspec": {
      "display_name": "Python 3.6 (tensorflow)",
      "language": "python",
      "name": "tensorflow"
    },
    "language_info": {
      "codemirror_mode": {
        "name": "ipython",
        "version": 3
      },
      "file_extension": ".py",
      "mimetype": "text/x-python",
      "name": "python",
      "nbconvert_exporter": "python",
      "pygments_lexer": "ipython3",
      "version": "3.6.8"
    },
    "colab": {
      "provenance": []
    }
  },
  "nbformat": 4,
  "nbformat_minor": 0
}